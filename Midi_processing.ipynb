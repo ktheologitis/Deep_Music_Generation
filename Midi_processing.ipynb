{
 "cells": [
  {
   "cell_type": "markdown",
   "metadata": {},
   "source": [
    "## Mido (Midi Python Library)"
   ]
  },
  {
   "cell_type": "code",
   "execution_count": 1,
   "metadata": {},
   "outputs": [],
   "source": [
    "import mido\n",
    "from mido import MidiFile, MidiTrack, Message, MetaMessage\n",
    "import matplotlib.pyplot as plt\n",
    "import numpy as np\n",
    "import glob\n",
    "import os\n",
    "from collections import defaultdict\n",
    "from sklearn.preprocessing import StandardScaler, MinMaxScaler"
   ]
  },
  {
   "cell_type": "markdown",
   "metadata": {},
   "source": [
    "### Function that shows first 15 messages of a midi file "
   ]
  },
  {
   "cell_type": "code",
   "execution_count": 4,
   "metadata": {},
   "outputs": [],
   "source": [
    "def midi_head(midi_file=None):\n",
    "    \n",
    "    '''\n",
    "    Each song of our dataset, when converted into midi, contains 2 tracks.\n",
    "    The second track contains midi event messages that have information about this midi event.\n",
    "    This function just prints the first 15 messages of the second track of the given song\n",
    "    \n",
    "    '''\n",
    "    \n",
    "    if midi_file == None:\n",
    "        print (\"Please give valid arguments\")\n",
    "    \n",
    "    messages = []\n",
    "    for i, msg in enumerate(midi_file.tracks[1]):\n",
    "        messages.append(msg)\n",
    "        \n",
    "        if i == 15:\n",
    "            break\n",
    "            \n",
    "    return messages"
   ]
  },
  {
   "cell_type": "markdown",
   "metadata": {},
   "source": [
    "Let's see what these midi messages show"
   ]
  },
  {
   "cell_type": "code",
   "execution_count": 5,
   "metadata": {
    "scrolled": true
   },
   "outputs": [
    {
     "data": {
      "text/plain": [
       "[<message program_change channel=0 program=0 time=0>,\n",
       " <message control_change channel=0 control=64 value=110 time=0>,\n",
       " <message control_change channel=0 control=67 value=117 time=0>,\n",
       " <message control_change channel=0 control=64 value=114 time=490>,\n",
       " <message control_change channel=0 control=64 value=118 time=94>,\n",
       " <message control_change channel=0 control=67 value=121 time=75>,\n",
       " <message control_change channel=0 control=64 value=122 time=262>,\n",
       " <message note_on channel=0 note=71 velocity=60 time=128>,\n",
       " <message control_change channel=0 control=67 value=117 time=37>,\n",
       " <message control_change channel=0 control=67 value=113 time=55>,\n",
       " <message note_on channel=0 note=71 velocity=0 time=1>,\n",
       " <message control_change channel=0 control=64 value=111 time=41>,\n",
       " <message control_change channel=0 control=64 value=93 time=19>,\n",
       " <message control_change channel=0 control=64 value=76 time=17>,\n",
       " <message note_on channel=0 note=55 velocity=44 time=9>,\n",
       " <message note_on channel=0 note=71 velocity=54 time=9>]"
      ]
     },
     "execution_count": 5,
     "metadata": {},
     "output_type": "execute_result"
    }
   ],
   "source": [
    "midi_head(song)"
   ]
  },
  {
   "cell_type": "markdown",
   "metadata": {},
   "source": [
    "### Create Function that processes Midi files \n",
    "\n",
    "The messages we get from each file, instead of note_on events, also have program_change events. We will not need those in our project, so we create new midi files without them and keeping only the note_on events. You can find and listen to the new midi files in the processed folder of the repo.\n",
    "\n",
    "We have to be careful though, because program_change events consume time like note_on events do. This must be taken into account when assigning the time attribute of note_on messages in the new midi files."
   ]
  },
  {
   "cell_type": "code",
   "execution_count": 34,
   "metadata": {},
   "outputs": [],
   "source": [
    "def processed_Midi(midi_file=None, name=None, path=None):\n",
    "    \n",
    "    if midi_file==None or name==None:\n",
    "        print (\"Please give valid arguments\")\n",
    "    \n",
    "    else:\n",
    "        new = MidiFile(type=1)   # type=1 just means that the file contains more than one track and all tracks are synchronous, start at the same time.\n",
    "        new.tracks = [midi_file.tracks[0], MidiTrack()] #Assign the original first track of the midi file passed in the function.\n",
    "                                                        # This track contains info messages about tempo, key signature etc.\n",
    "                                                        # The second track is the one we are going to change\n",
    "\n",
    "        t = 0\n",
    "        for j, msg in enumerate(midi_file.tracks[1]):\n",
    "            if msg.dict()['type'] == 'note_on':\n",
    "                new.tracks[1].append(Message('note_on', note = msg.dict()['note'], velocity = msg.dict()['velocity'], time = t + msg.dict()['time']))\n",
    "                t = 0\n",
    "\n",
    "            else:\n",
    "                t += msg.dict()['time'] # if message type is not note_on, add its time so it is taken into account in the next note_on event\n",
    "                \n",
    "        if path == None:\n",
    "            new.save(name[0:-5]+'_processed.midi')\n",
    "        else:\n",
    "            new.save(path+'\\\\'+name[0:-5]+'_processed.midi')\n",
    "            \n",
    "        return new"
   ]
  },
  {
   "cell_type": "markdown",
   "metadata": {},
   "source": [
    "### Get song names and all midi files in a list"
   ]
  },
  {
   "cell_type": "code",
   "execution_count": 35,
   "metadata": {},
   "outputs": [],
   "source": [
    "def get_names_and_files(path):\n",
    "    names = glob.glob(path+'\\\\*.midi')\n",
    "    names = [name[len(path)+1:] for name in names]\n",
    "\n",
    "    files = [MidiFile(path+'\\\\'+name) for name in names]\n",
    "    \n",
    "    return names, files"
   ]
  },
  {
   "cell_type": "code",
   "execution_count": 36,
   "metadata": {},
   "outputs": [],
   "source": [
    "song_names, song_files = get_names_and_files('dataset\\\\2004')"
   ]
  },
  {
   "cell_type": "code",
   "execution_count": 37,
   "metadata": {},
   "outputs": [],
   "source": [
    "for song_file, song_name in zip(song_files, song_names):\n",
    "    processed_Midi(midi_file=song_file, name=song_name, path='processed')"
   ]
  },
  {
   "cell_type": "code",
   "execution_count": 38,
   "metadata": {},
   "outputs": [],
   "source": [
    "processed_names, processed_songs = get_names_and_files('processed')"
   ]
  },
  {
   "cell_type": "markdown",
   "metadata": {},
   "source": [
    "### Play a MidiFile function \n",
    "\n",
    "Run the cell below to listen to one of the processed songs we have just created. \\n\n",
    "We will use this function later to play our generated music."
   ]
  },
  {
   "cell_type": "code",
   "execution_count": null,
   "metadata": {},
   "outputs": [],
   "source": [
    "def play_midi(file):\n",
    "    mido.set_backend('mido.backends.rtmidi')\n",
    "    with mido.open_output() as output:\n",
    "        try:\n",
    "            print (output)\n",
    "            with file as midi_file:\n",
    "                for msg in midi_file.play():\n",
    "                    print (msg.dict())\n",
    "                    output.send(msg)\n",
    "        except KeyboardInterrupt:\n",
    "            print ()\n",
    "            output.reset()\n",
    "\n",
    "play_midi(processed_songs[0])"
   ]
  }
 ],
 "metadata": {
  "kernelspec": {
   "display_name": "Python 3",
   "language": "python",
   "name": "python3"
  },
  "language_info": {
   "codemirror_mode": {
    "name": "ipython",
    "version": 3
   },
   "file_extension": ".py",
   "mimetype": "text/x-python",
   "name": "python",
   "nbconvert_exporter": "python",
   "pygments_lexer": "ipython3",
   "version": "3.7.3"
  }
 },
 "nbformat": 4,
 "nbformat_minor": 2
}
