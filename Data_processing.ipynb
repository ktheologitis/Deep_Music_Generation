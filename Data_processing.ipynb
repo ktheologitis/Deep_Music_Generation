{
 "cells": [
  {
   "cell_type": "code",
   "execution_count": 1,
   "metadata": {},
   "outputs": [
    {
     "name": "stdout",
     "output_type": "stream",
     "text": [
      "importing Jupyter notebook from Midi_processing.ipynb\n"
     ]
    }
   ],
   "source": [
    "import import_ipynb\n",
    "\n",
    "from Midi_processing import *"
   ]
  },
  {
   "cell_type": "markdown",
   "metadata": {},
   "source": [
    "## Dataset creation and data transformations\n",
    "\n",
    "In this section we first write a few helper functions that will assist us in the dataset creation function (create_dataset)"
   ]
  },
  {
   "cell_type": "markdown",
   "metadata": {},
   "source": [
    "#### Function that converts ticks to seconds"
   ]
  },
  {
   "cell_type": "code",
   "execution_count": 3,
   "metadata": {},
   "outputs": [],
   "source": [
    "def ticks_to_seconds(midi_file, ticks):\n",
    "\n",
    "    ticks_per_beat = midi_file.ticks_per_beat # this is a buil-in attribute of midi_files in Mido\n",
    "    beats_per_sec = 1/(midi_file.tracks[0][0].dict()['tempo']/1000000)  \n",
    "    secs_per_tick = 1/(ticks_per_beat*beats_per_sec)\n",
    "    \n",
    "    return secs_per_tick*ticks"
   ]
  },
  {
   "cell_type": "markdown",
   "metadata": {},
   "source": [
    "#### One Hot Encode function"
   ]
  },
  {
   "cell_type": "code",
   "execution_count": 4,
   "metadata": {},
   "outputs": [],
   "source": [
    "def one_hot_encode(element, length):\n",
    "    \n",
    "    one_hot = np.zeros(128)\n",
    "    one_hot[element] = 1\n",
    "    \n",
    "    return one_hot    "
   ]
  },
  {
   "cell_type": "markdown",
   "metadata": {},
   "source": [
    "#### Dataset creation function"
   ]
  },
  {
   "cell_type": "code",
   "execution_count": 5,
   "metadata": {},
   "outputs": [],
   "source": [
    "def create_dataset(midi_files=None, batch_size=None):\n",
    "    \n",
    "    '''\n",
    "    Arguments:\n",
    "        midi_files: this is of type list and contains a list of all the our songs(midi files).\n",
    "        batch_size: integer that represents the number of batches that we will provide later in the network.\n",
    "                    we use it in order to separate different songs with a number of events equal to the batch size.\n",
    "                    this way there is not going to be a batch with events from two different songs.\n",
    "                    \n",
    "    Returns a list of midi events. \n",
    "    Each midi event is a list that contains three elements:\n",
    "        - the note, one_hot_encoded into a 128-length np.array\n",
    "        - velocity, as an integer\n",
    "        - time, as a float in the form of seconds\n",
    "    '''\n",
    "    \n",
    "    dataset = []\n",
    "\n",
    "    for song in midi_files:\n",
    "        for msg in song.tracks[1]:\n",
    "            if msg.dict()['type'] == 'note_on':\n",
    "                one_hot_note = one_hot_encode(msg.dict()['note'], 128)\n",
    "                dataset.append([one_hot_note, msg.dict()['velocity'], ticks_to_seconds(song, msg.dict()['time'])])\n",
    "            else:\n",
    "                for j in range(batch_size):\n",
    "                    dataset.append([np.zeros(128), 0, 0])\n",
    "                    \n",
    "    return dataset"
   ]
  },
  {
   "cell_type": "code",
   "execution_count": 6,
   "metadata": {},
   "outputs": [],
   "source": [
    "batch_size = 8   # denote batch_size\n",
    "\n",
    "# Create dataset\n",
    "DATA = create_dataset(midi_files=processed_songs, batch_size=batch_size)"
   ]
  },
  {
   "cell_type": "code",
   "execution_count": 7,
   "metadata": {
    "scrolled": true
   },
   "outputs": [
    {
     "name": "stdout",
     "output_type": "stream",
     "text": [
      "Our dataset consists of 1631120 events.\n",
      "Each event consists of 3 elements.\n",
      "\n",
      "In other words our dataset consists of 1631120 rows and 3 columns.\n"
     ]
    }
   ],
   "source": [
    "# Convert it into a numpy array\n",
    "DATA = np.array(DATA)\n",
    "\n",
    "# print(f'Our dataset consists of {DATA.shape[0]} events.\\nEach event consists of {DATA.shape[1]} elements.')\n",
    "# print (f'\\nIn other words our dataset consists of {DATA.shape[0]} rows and {DATA.shape[1]} columns.')"
   ]
  },
  {
   "cell_type": "markdown",
   "metadata": {},
   "source": [
    "#### Isolate _note_ , _velocity_  and _time_ into different arrays"
   ]
  },
  {
   "cell_type": "code",
   "execution_count": 8,
   "metadata": {},
   "outputs": [],
   "source": [
    "note_dataset = DATA.swapaxes(0,1)[0]      # get only the column with the note sequence\n",
    "velocity_dataset = DATA.swapaxes(0,1)[1]   # get only the column with the velocity sequence\n",
    "time_dataset = DATA.swapaxes(0,1)[2]       # get only the column with the time sequence"
   ]
  },
  {
   "cell_type": "markdown",
   "metadata": {},
   "source": [
    "#### Create inputs and targets for each one of the isolated attributes"
   ]
  },
  {
   "cell_type": "code",
   "execution_count": 9,
   "metadata": {},
   "outputs": [],
   "source": [
    "note_inputs = []\n",
    "note_targets = []\n",
    "\n",
    "velocity_inputs = []\n",
    "velocity_targets = []\n",
    "\n",
    "time_inputs = []\n",
    "time_targets = []\n",
    "\n",
    "datasets = {'note_dataset':note_dataset, 'velocity_dataset':velocity_dataset, 'time_dataset':time_dataset}\n",
    "\n",
    "for dataset in datasets:\n",
    "    if dataset == 'note_dataset':\n",
    "        for inp, target in zip(note_dataset[:-1], note_dataset[1:]):\n",
    "            note_inputs.append(inp)\n",
    "            note_targets.append(target)\n",
    "            \n",
    "    elif dataset == 'velocity_dataset':\n",
    "        for inp, target in zip(velocity_dataset[:-1], velocity_dataset[1:]):\n",
    "            velocity_inputs.append(inp)\n",
    "            velocity_targets.append(target)   \n",
    "    \n",
    "    else:\n",
    "        for inp, target in zip(time_dataset[:-1], time_dataset[1:]):\n",
    "            time_inputs.append(inp)\n",
    "            time_targets.append(target)"
   ]
  },
  {
   "cell_type": "markdown",
   "metadata": {},
   "source": [
    "__Add as many zero elements as needed in the end of input and target list, in order to make them dividable into batches of our given batch_size.__"
   ]
  },
  {
   "cell_type": "code",
   "execution_count": 10,
   "metadata": {},
   "outputs": [
    {
     "name": "stdout",
     "output_type": "stream",
     "text": [
      "The new size of our input lists will be 1631120.\n"
     ]
    }
   ],
   "source": [
    "while len(note_inputs)%batch_size != 0:\n",
    "    note_inputs.append(np.zeros(128))\n",
    "    note_targets.append(np.zeros(128))\n",
    "    velocity_inputs.append(0)\n",
    "    velocity_targets.append(0)\n",
    "    time_inputs.append(0)\n",
    "    time_targets.append(0)\n",
    "# print (f'The new size of our input lists will be {len(note_inputs)}.')"
   ]
  },
  {
   "cell_type": "code",
   "execution_count": 11,
   "metadata": {},
   "outputs": [],
   "source": [
    "# Convert all the input lists into numpy arrays\n",
    "\n",
    "note_inputs, note_targets = np.array(note_inputs), np.array(note_targets)\n",
    "velocity_inputs, velocity_targets = np.array(velocity_inputs).reshape(-1,1), np.array(velocity_targets).reshape(-1,1)\n",
    "time_inputs, time_targets = np.array(time_inputs).reshape(-1,1), np.array(time_targets).reshape(-1,1)"
   ]
  },
  {
   "cell_type": "markdown",
   "metadata": {},
   "source": [
    "#### Transform the _velocity_ and _time_ attributes so that they are in the same scale."
   ]
  },
  {
   "cell_type": "code",
   "execution_count": 12,
   "metadata": {},
   "outputs": [],
   "source": [
    "velocity_inputs_scaler = StandardScaler() # initiate our scaler\n",
    "velocity_targets_scaler = StandardScaler()\n",
    "time_inputs_scaler = StandardScaler()\n",
    "time_targets_scaler = StandardScaler()\n",
    "\n",
    "# Fit the scaler to the data we want to transform. Fit means that it finds the data mean and std.\n",
    "velocity_inputs_scaler.fit(velocity_inputs)\n",
    "velocity_inputs_transformed = velocity_inputs_scaler.transform(velocity_inputs)\n",
    "\n",
    "velocity_targets_scaler.fit(velocity_targets)\n",
    "velocity_targets_transformed = velocity_targets_scaler.transform(velocity_targets)\n",
    "\n",
    "time_inputs_scaler.fit(time_inputs)\n",
    "time_inputs_transformed = time_inputs_scaler.transform(time_inputs)\n",
    "\n",
    "time_targets_scaler.fit(time_targets)\n",
    "time_targets_transformed = time_targets_scaler.transform(time_targets)"
   ]
  },
  {
   "cell_type": "markdown",
   "metadata": {},
   "source": [
    "#### Organize note, velocity and time datasets into batches, or sequences for the LSTM inputs"
   ]
  },
  {
   "cell_type": "code",
   "execution_count": 14,
   "metadata": {},
   "outputs": [],
   "source": [
    "note_inputs_batched = note_inputs.reshape(-1, batch_size, 128)\n",
    "note_targets_batched = note_targets.reshape(-1, batch_size, 128)\n",
    "\n",
    "velocity_inputs_transformed_batched = velocity_inputs_transformed.reshape(-1, batch_size, 1)\n",
    "velocity_targets_transformed_batched = velocity_targets_transformed.reshape(-1, batch_size, 1)\n",
    "\n",
    "time_inputs_transformed_batched = time_inputs_transformed.reshape(-1, batch_size, 1)\n",
    "time_targets_transformed_batched = time_targets_transformed.reshape(-1, batch_size, 1)"
   ]
  },
  {
   "cell_type": "code",
   "execution_count": 39,
   "metadata": {},
   "outputs": [
    {
     "data": {
      "text/plain": [
       "(203890, 8, 128)"
      ]
     },
     "execution_count": 39,
     "metadata": {},
     "output_type": "execute_result"
    }
   ],
   "source": [
    "note_inputs_batched.shape"
   ]
  }
 ],
 "metadata": {
  "kernelspec": {
   "display_name": "Python 3",
   "language": "python",
   "name": "python3"
  },
  "language_info": {
   "codemirror_mode": {
    "name": "ipython",
    "version": 3
   },
   "file_extension": ".py",
   "mimetype": "text/x-python",
   "name": "python",
   "nbconvert_exporter": "python",
   "pygments_lexer": "ipython3",
   "version": "3.7.3"
  }
 },
 "nbformat": 4,
 "nbformat_minor": 2
}
